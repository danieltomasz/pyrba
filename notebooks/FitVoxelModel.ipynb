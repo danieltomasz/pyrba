{
 "cells": [
  {
   "cell_type": "code",
   "execution_count": 1,
   "id": "600734ae",
   "metadata": {},
   "outputs": [],
   "source": [
    "from pathlib import Path"
   ]
  },
  {
   "cell_type": "code",
   "execution_count": 2,
   "id": "e699a8d1",
   "metadata": {},
   "outputs": [],
   "source": [
    "import pandas as pd\n",
    "import numpy as np\n",
    "\n",
    "pd.set_option(\"display.max_rows\", 500)"
   ]
  },
  {
   "cell_type": "code",
   "execution_count": 3,
   "id": "660e4234",
   "metadata": {},
   "outputs": [],
   "source": [
    "import nibabel as nib\n",
    "from nilearn.image import resample_img, new_img_like\n",
    "from templateflow.api import get"
   ]
  },
  {
   "cell_type": "code",
   "execution_count": 4,
   "id": "91afca86",
   "metadata": {},
   "outputs": [],
   "source": [
    "import arviz as az"
   ]
  },
  {
   "cell_type": "code",
   "execution_count": 5,
   "id": "4655de9f",
   "metadata": {},
   "outputs": [],
   "source": [
    "import bambi as bmb"
   ]
  },
  {
   "cell_type": "code",
   "execution_count": 6,
   "id": "06720c98",
   "metadata": {
    "tags": []
   },
   "outputs": [],
   "source": [
    "def get_data_paths(suffix: str):\n",
    "    if suffix in [\"mask\"]:\n",
    "        pass\n",
    "    elif suffix in [\"z\"]:\n",
    "        suffix = f\"stat-{suffix}_statmap\"\n",
    "    \n",
    "    for subject in range(1, 17):\n",
    "        yield Path(\"data\") / (\n",
    "            f\"sub-{subject:02d}_task-faces_feature-taskBased_\"\n",
    "            \"taskcontrast-facesGtScrambled_\"\n",
    "            \"model-aggregateTaskBasedAcrossRuns_\"\n",
    "            f\"contrast-intercept_{suffix}.nii.gz\"\n",
    "        )"
   ]
  },
  {
   "cell_type": "code",
   "execution_count": 7,
   "id": "49652d45",
   "metadata": {},
   "outputs": [],
   "source": [
    "template_path = get(template=\"MNI152NLin2009cAsym\", resolution=2, desc=\"brain\", suffix=\"T1w\")\n",
    "template_image = nib.load(template_path)\n",
    "\n",
    "template_mask_path = get(template=\"MNI152NLin2009cAsym\", resolution=2, desc=\"brain\", suffix=\"mask\")\n",
    "template_mask_image = nib.load(template_mask_path)\n",
    "template_mask_data = np.asanyarray(template_mask_image.dataobj, dtype=bool)"
   ]
  },
  {
   "cell_type": "code",
   "execution_count": 8,
   "id": "0bb7cf86",
   "metadata": {},
   "outputs": [
    {
     "data": {
      "text/plain": [
       "array([[   5. ,    0. ,    0. ,  -96.5],\n",
       "       [   0. ,    5. ,    0. , -132.5],\n",
       "       [   0. ,    0. ,    5. ,  -78.5],\n",
       "       [   0. ,    0. ,    0. ,    1. ]])"
      ]
     },
     "execution_count": 8,
     "metadata": {},
     "output_type": "execute_result"
    }
   ],
   "source": [
    "target_affine = template_image.affine\n",
    "target_affine[:3,:3] *= 2.5\n",
    "target_affine"
   ]
  },
  {
   "cell_type": "code",
   "execution_count": 9,
   "id": "0b0bc4f2",
   "metadata": {},
   "outputs": [],
   "source": [
    "mask = np.all(\n",
    "    np.concatenate(\n",
    "        [\n",
    "            np.asanyarray(\n",
    "                resample_img(\n",
    "                    nib.Nifti1Image.from_filename(mask_path),\n",
    "                    target_affine,\n",
    "                    interpolation=\"nearest\",\n",
    "                ).dataobj\n",
    "            ).astype(bool)[:, :, :, np.newaxis]\n",
    "            for mask_path in get_data_paths(\"mask\")\n",
    "        ], \n",
    "        axis=3,\n",
    "    ),\n",
    "    axis=3,\n",
    ")"
   ]
  },
  {
   "cell_type": "code",
   "execution_count": 10,
   "id": "9e6844f1",
   "metadata": {},
   "outputs": [
    {
     "data": {
      "text/plain": [
       "14752"
      ]
     },
     "execution_count": 10,
     "metadata": {},
     "output_type": "execute_result"
    }
   ],
   "source": [
    "x, y, z = np.nonzero(mask)\n",
    "len(x)"
   ]
  },
  {
   "cell_type": "code",
   "execution_count": 11,
   "id": "fd9662ca",
   "metadata": {},
   "outputs": [],
   "source": [
    "data_array = np.concatenate(\n",
    "    [\n",
    "        resample_img(\n",
    "            nib.Nifti1Image.from_filename(zstat_path),\n",
    "            target_affine,\n",
    "        ).get_fdata()[x, y, z, np.newaxis]\n",
    "        for zstat_path in get_data_paths(\"z\")\n",
    "    ], \n",
    "    axis=1,\n",
    ")"
   ]
  },
  {
   "cell_type": "code",
   "execution_count": 12,
   "id": "0f1c0694",
   "metadata": {},
   "outputs": [],
   "source": [
    "data_frame = pd.DataFrame(data_array)\n",
    "data_frame[\"voxel\"] = np.ravel_multi_index((x, y, z), mask.shape)\n",
    "\n",
    "data_frame = data_frame.melt(id_vars=[\"voxel\"], var_name=\"subject\")"
   ]
  },
  {
   "cell_type": "code",
   "execution_count": 13,
   "id": "aa1062d0",
   "metadata": {},
   "outputs": [
    {
     "data": {
      "text/html": [
       "<div>\n",
       "<style scoped>\n",
       "    .dataframe tbody tr th:only-of-type {\n",
       "        vertical-align: middle;\n",
       "    }\n",
       "\n",
       "    .dataframe tbody tr th {\n",
       "        vertical-align: top;\n",
       "    }\n",
       "\n",
       "    .dataframe thead th {\n",
       "        text-align: right;\n",
       "    }\n",
       "</style>\n",
       "<table border=\"1\" class=\"dataframe\">\n",
       "  <thead>\n",
       "    <tr style=\"text-align: right;\">\n",
       "      <th></th>\n",
       "      <th>voxel</th>\n",
       "      <th>subject</th>\n",
       "      <th>value</th>\n",
       "    </tr>\n",
       "  </thead>\n",
       "  <tbody>\n",
       "    <tr>\n",
       "      <th>0</th>\n",
       "      <td>10095</td>\n",
       "      <td>0</td>\n",
       "      <td>-0.071804</td>\n",
       "    </tr>\n",
       "    <tr>\n",
       "      <th>1</th>\n",
       "      <td>10096</td>\n",
       "      <td>0</td>\n",
       "      <td>0.112519</td>\n",
       "    </tr>\n",
       "    <tr>\n",
       "      <th>2</th>\n",
       "      <td>10097</td>\n",
       "      <td>0</td>\n",
       "      <td>1.102691</td>\n",
       "    </tr>\n",
       "    <tr>\n",
       "      <th>3</th>\n",
       "      <td>10098</td>\n",
       "      <td>0</td>\n",
       "      <td>0.886668</td>\n",
       "    </tr>\n",
       "    <tr>\n",
       "      <th>4</th>\n",
       "      <td>10099</td>\n",
       "      <td>0</td>\n",
       "      <td>0.028903</td>\n",
       "    </tr>\n",
       "    <tr>\n",
       "      <th>...</th>\n",
       "      <td>...</td>\n",
       "      <td>...</td>\n",
       "      <td>...</td>\n",
       "    </tr>\n",
       "    <tr>\n",
       "      <th>236027</th>\n",
       "      <td>63060</td>\n",
       "      <td>15</td>\n",
       "      <td>0.801796</td>\n",
       "    </tr>\n",
       "    <tr>\n",
       "      <th>236028</th>\n",
       "      <td>63061</td>\n",
       "      <td>15</td>\n",
       "      <td>0.560480</td>\n",
       "    </tr>\n",
       "    <tr>\n",
       "      <th>236029</th>\n",
       "      <td>63062</td>\n",
       "      <td>15</td>\n",
       "      <td>0.135751</td>\n",
       "    </tr>\n",
       "    <tr>\n",
       "      <th>236030</th>\n",
       "      <td>63099</td>\n",
       "      <td>15</td>\n",
       "      <td>-0.280793</td>\n",
       "    </tr>\n",
       "    <tr>\n",
       "      <th>236031</th>\n",
       "      <td>63100</td>\n",
       "      <td>15</td>\n",
       "      <td>-0.423583</td>\n",
       "    </tr>\n",
       "  </tbody>\n",
       "</table>\n",
       "<p>236032 rows × 3 columns</p>\n",
       "</div>"
      ],
      "text/plain": [
       "        voxel subject     value\n",
       "0       10095       0 -0.071804\n",
       "1       10096       0  0.112519\n",
       "2       10097       0  1.102691\n",
       "3       10098       0  0.886668\n",
       "4       10099       0  0.028903\n",
       "...       ...     ...       ...\n",
       "236027  63060      15  0.801796\n",
       "236028  63061      15  0.560480\n",
       "236029  63062      15  0.135751\n",
       "236030  63099      15 -0.280793\n",
       "236031  63100      15 -0.423583\n",
       "\n",
       "[236032 rows x 3 columns]"
      ]
     },
     "execution_count": 13,
     "metadata": {},
     "output_type": "execute_result"
    }
   ],
   "source": [
    "data_frame"
   ]
  },
  {
   "cell_type": "code",
   "execution_count": 14,
   "id": "fcd919b7",
   "metadata": {},
   "outputs": [],
   "source": [
    "model = bmb.Model(\"value ~ (1|subject) + (1|voxel)\", data_frame)"
   ]
  },
  {
   "cell_type": "code",
   "execution_count": 15,
   "id": "f3feb557",
   "metadata": {},
   "outputs": [
    {
     "name": "stderr",
     "output_type": "stream",
     "text": [
      "/fast/work/users/wallerl_c/miniforge3/envs/gpu/lib/python3.10/site-packages/aesara/link/jax/dispatch.py:87: UserWarning: JAX omnistaging couldn't be disabled: Disabling of omnistaging is no longer supported in JAX version 0.2.12 and higher: see https://github.com/google/jax/blob/main/design_notes/omnistaging.md.\n",
      "  warnings.warn(f\"JAX omnistaging couldn't be disabled: {e}\")\n",
      "/fast/work/users/wallerl_c/miniforge3/envs/gpu/lib/python3.10/site-packages/pymc/sampling_jax.py:36: UserWarning: This module is experimental.\n",
      "  warnings.warn(\"This module is experimental.\")\n"
     ]
    },
    {
     "name": "stdout",
     "output_type": "stream",
     "text": [
      "Compiling...\n",
      "Compilation time =  0:00:06.447796\n",
      "Sampling...\n"
     ]
    },
    {
     "name": "stderr",
     "output_type": "stream",
     "text": [
      "/fast/work/users/wallerl_c/miniforge3/envs/gpu/lib/python3.10/site-packages/jax/linear_util.py:168: UserWarning: We will disable progress bar because it does not work yet on multi-GPUs platforms.\n",
      "  ans = self.f(*args, **dict(self.params, **kwargs))\n"
     ]
    },
    {
     "name": "stdout",
     "output_type": "stream",
     "text": [
      "Sampling time =  0:23:11.094515\n",
      "Transforming variables...\n",
      "Transformation time =  0:00:01.099567\n"
     ]
    }
   ],
   "source": [
    "results = model.fit(\n",
    "    tune=1000, \n",
    "    draws=1000, \n",
    "    chains=4, \n",
    "    method=\"nuts_numpyro\",\n",
    "    chain_method=\"parallel\",\n",
    "    nuts_kwargs=dict(max_tree_depth=10),\n",
    ")"
   ]
  },
  {
   "cell_type": "code",
   "execution_count": 16,
   "id": "6c6db3ac",
   "metadata": {},
   "outputs": [
    {
     "data": {
      "text/plain": [
       "'results.nc'"
      ]
     },
     "execution_count": 16,
     "metadata": {},
     "output_type": "execute_result"
    }
   ],
   "source": [
    "results.to_netcdf(\"results.nc\")"
   ]
  },
  {
   "cell_type": "code",
   "execution_count": 17,
   "id": "9e8e506c",
   "metadata": {},
   "outputs": [
    {
     "data": {
      "text/plain": [
       "0"
      ]
     },
     "execution_count": 17,
     "metadata": {},
     "output_type": "execute_result"
    }
   ],
   "source": [
    "number_of_divergences = int(results.sample_stats.diverging.sum())\n",
    "number_of_divergences"
   ]
  },
  {
   "cell_type": "code",
   "execution_count": 19,
   "id": "cd425e02",
   "metadata": {},
   "outputs": [
    {
     "data": {
      "text/plain": [
       "True"
      ]
     },
     "execution_count": 19,
     "metadata": {},
     "output_type": "execute_result"
    }
   ],
   "source": [
    "bool(np.all((0.9 <= az.rhat(results) <= 1.05).to_array()))"
   ]
  },
  {
   "cell_type": "code",
   "execution_count": 20,
   "id": "af302db4",
   "metadata": {},
   "outputs": [],
   "source": [
    "effect = results.posterior[\"1|voxel\"]"
   ]
  },
  {
   "cell_type": "code",
   "execution_count": 21,
   "id": "aae6e2b8",
   "metadata": {},
   "outputs": [],
   "source": [
    "x, y, z = np.unravel_index(list(map(int, effect.voxel__factor_dim)), mask.shape)"
   ]
  },
  {
   "cell_type": "code",
   "execution_count": 24,
   "id": "509913ff",
   "metadata": {},
   "outputs": [],
   "source": [
    "posterior_map = np.zeros(template_image.shape)\n",
    "posterior_map[x, y, z] = effect.mean(axis=(0, 1))"
   ]
  },
  {
   "cell_type": "code",
   "execution_count": 25,
   "id": "342551eb",
   "metadata": {},
   "outputs": [],
   "source": [
    "posterior_map_image = resample_img(\n",
    "    nib.Nifti1Image(posterior_map, target_affine),\n",
    "    template_image.affine,\n",
    "    interpolation=\"nearest\",\n",
    ")"
   ]
  },
  {
   "cell_type": "code",
   "execution_count": 26,
   "id": "cf9f42a1",
   "metadata": {},
   "outputs": [],
   "source": [
    "nib.save(posterior_map_image, \"posterior.nii.gz\")"
   ]
  },
  {
   "cell_type": "code",
   "execution_count": 30,
   "id": "605925c3",
   "metadata": {},
   "outputs": [],
   "source": [
    "probability_map = np.zeros(template_image.shape)\n",
    "probability_map[x, y, z] = ((effect > 0).mean(axis=(0, 1)) - 0.5) * 2\n",
    "\n",
    "probability_map_image = resample_img(\n",
    "    nib.Nifti1Image(probability_map, target_affine),\n",
    "    template_image.affine,\n",
    "    interpolation=\"nearest\",\n",
    ")\n",
    "\n",
    "nib.save(probability_map_image, \"probability.nii.gz\")"
   ]
  }
 ],
 "metadata": {
  "kernelspec": {
   "display_name": "Python [conda env:.conda-pyrba]",
   "language": "python",
   "name": "conda-env-.conda-pyrba-py"
  },
  "language_info": {
   "codemirror_mode": {
    "name": "ipython",
    "version": 3
   },
   "file_extension": ".py",
   "mimetype": "text/x-python",
   "name": "python",
   "nbconvert_exporter": "python",
   "pygments_lexer": "ipython3",
   "version": "3.9.15"
  }
 },
 "nbformat": 4,
 "nbformat_minor": 5
}
